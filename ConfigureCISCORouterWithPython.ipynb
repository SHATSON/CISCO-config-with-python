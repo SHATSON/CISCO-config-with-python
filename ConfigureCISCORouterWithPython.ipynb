{
 "cells": [
  {
   "cell_type": "code",
   "execution_count": null,
   "metadata": {},
   "outputs": [],
   "source": [
    "# First method (It's a bit complicated)\n",
    "import pexpect\n",
    "import getpass\n",
    "\n",
    "\n",
    "ipaddress = raw_input(\"Enter IP address:\")\n",
    "\n",
    "HOST = ipaddress\n",
    "user = raw_input(\"Enter your remote account: \")\n",
    "password = getpass.getpass()\n",
    "\n",
    "child = pexpect.spawn ('telnet '+HOST)\n",
    "child.expect ('Username: ')\n",
    "child.sendline (user)\n",
    "child.expect ('Password: ')\n",
    "child.sendline (password)\n",
    "# If the hostname of the router is set to \"cisco\"\n",
    "# then the prompt now would be \"cisco>\"\n",
    "routerHostname = \"cisco\" #example - can be different\n",
    "child.expect (routerHostname+'>')\n",
    "child.sendline ('enable')\n",
    "child.expect (routerHostname+'#')\n",
    "child.sendline ('config t')\n",
    "child.expect (routerHostname+'(config)#')\n",
    "child.sendline ('int loop t')\n",
    "child.expect (routerHostname+'(config-if)#')\n",
    "child.sendline ('ip address 1.1.1.1 255.255.255.255')\n",
    "child.expect (routerHostname+'(config-if)#')\n",
    "child.sendline ('end')\n",
    "child.expect (routerHostname+'#')\n",
    "child.sendline ('exit')"
   ]
  },
  {
   "cell_type": "code",
   "execution_count": null,
   "metadata": {},
   "outputs": [],
   "source": [
    "# Second method (Simpliest)\n",
    "import getpass\n",
    "import sys\n",
    "import telnetlib\n",
    "\n",
    "HOST = input(\"Enter IP address:\")\n",
    "\n",
    "user = input(\"Enter your telnet account:\")\n",
    "password = getpass.getpass()\n",
    "\n",
    "tn = telnetlib.Telnet(HOST)\n",
    "tn.read_until(b\"Username \")\n",
    "tn.write(user.encode('ascii') + b\"\\n\")\n",
    "if password:\n",
    "    tn.read_until(b\"Password: \")\n",
    "    tn.write(password.encode('ascii') + b\"\\n\")\n",
    "    \n",
    "tn.write(b\"enable\\n\")\n",
    "tn.write(b\"cisco\\n\") # password for default cisco devices it's cisco\n",
    "tn.write(b\"config t\\n\")\n",
    "tn.write(b\"int loop t\\n\")\n",
    "tn.write(b\"ip address 1.1.1.1 255.255.255.255\\n\")\n",
    "tn.write(b\"end\\n\")\n",
    "tn.write(b\"exit\\n\")\n",
    "\n",
    "    \n",
    "print(tn.read_all().decode('ascii'))"
   ]
  }
 ],
 "metadata": {
  "kernelspec": {
   "display_name": "Python 2",
   "language": "python",
   "name": "python2"
  },
  "language_info": {
   "codemirror_mode": {
    "name": "ipython",
    "version": 3
   },
   "file_extension": ".py",
   "mimetype": "text/x-python",
   "name": "python",
   "nbconvert_exporter": "python",
   "pygments_lexer": "ipython3",
   "version": "3.7.3"
  }
 },
 "nbformat": 4,
 "nbformat_minor": 4
}
